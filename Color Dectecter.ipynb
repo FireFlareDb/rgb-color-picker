{
 "cells": [
  {
   "cell_type": "code",
   "execution_count": 10,
   "metadata": {},
   "outputs": [],
   "source": [
    "import cv2\n",
    "import numpy as np\n",
    "import pandas as pd\n",
    "import argparse"
   ]
  },
  {
   "cell_type": "code",
   "execution_count": 11,
   "metadata": {},
   "outputs": [],
   "source": [
    "# giving image path by using argparse\n",
    "# ap = argparse.ArgumentParser()\n",
    "# ap.add_argument('-i', '--image', required=True, help = \"Image Path\")\n",
    "# args = vars(ap.parse_args())\n",
    "img_path = 'colorpic.jpg'\n",
    "\n",
    "# Reading Image With OpenCV\n",
    "img = cv2.imread(img_path)"
   ]
  },
  {
   "cell_type": "code",
   "execution_count": 12,
   "metadata": {},
   "outputs": [],
   "source": [
    "# Now We Will Read The CSV File\n",
    "index = [\"color\",\"color_name\",\"hex\",\"R\",\"G\",\"B\"]\n",
    "csv = pd.read_csv('colors.csv', names=index, header=None)"
   ]
  },
  {
   "cell_type": "code",
   "execution_count": 13,
   "metadata": {},
   "outputs": [
    {
     "ename": "NameError",
     "evalue": "name 'draw_function' is not defined",
     "output_type": "error",
     "traceback": [
      "\u001b[1;31m---------------------------------------------------------------------------\u001b[0m",
      "\u001b[1;31mNameError\u001b[0m                                 Traceback (most recent call last)",
      "\u001b[1;32m<ipython-input-13-be3308a1759b>\u001b[0m in \u001b[0;36m<module>\u001b[1;34m\u001b[0m\n\u001b[0;32m      2\u001b[0m \u001b[1;31m# Second, We'll Set A CallBack Function Which Will Be Called When Mouse Event Happens\u001b[0m\u001b[1;33m\u001b[0m\u001b[1;33m\u001b[0m\u001b[1;33m\u001b[0m\u001b[0m\n\u001b[0;32m      3\u001b[0m \u001b[0mcv2\u001b[0m\u001b[1;33m.\u001b[0m\u001b[0mnamedWindow\u001b[0m\u001b[1;33m(\u001b[0m\u001b[1;34m'image'\u001b[0m\u001b[1;33m)\u001b[0m\u001b[1;33m\u001b[0m\u001b[1;33m\u001b[0m\u001b[0m\n\u001b[1;32m----> 4\u001b[1;33m \u001b[0mcv2\u001b[0m\u001b[1;33m.\u001b[0m\u001b[0msetMouseCallback\u001b[0m\u001b[1;33m(\u001b[0m\u001b[1;34m'image'\u001b[0m\u001b[1;33m,\u001b[0m \u001b[0mdraw_function\u001b[0m\u001b[1;33m)\u001b[0m\u001b[1;33m\u001b[0m\u001b[1;33m\u001b[0m\u001b[0m\n\u001b[0m",
      "\u001b[1;31mNameError\u001b[0m: name 'draw_function' is not defined"
     ]
    }
   ],
   "source": [
    "# First, We'll Create A Windown Using OpenCV To Display The Image\n",
    "# Second, We'll Set A CallBack Function Which Will Be Called When Mouse Event Happens\n",
    "cv2.namedWindow('image')\n",
    "cv2.setMouseCallback('image', draw_function)"
   ]
  },
  {
   "cell_type": "code",
   "execution_count": null,
   "metadata": {},
   "outputs": [],
   "source": [
    "def draw_function(event, x, y, flages, param):\n",
    "    if event == cv2.EVENT_LBUTTONDBLCLK:\n",
    "        global b, g, r, xpos, ypos, clciked\n",
    "        clciked = True\n",
    "        xpos = x\n",
    "        ypos = y\n",
    "        b, g, r = img[y, x]\n",
    "        b = int(b)\n",
    "        g = int(g)\n",
    "        r = int(r)"
   ]
  },
  {
   "cell_type": "code",
   "execution_count": null,
   "metadata": {},
   "outputs": [],
   "source": [
    "# Now We Have The R,G,B Values. So We Need Another Function Which Will Return \n",
    "# The Name Of Color.\n",
    "# To Get The Color Name, By Calculating The Minimun Distance From The Color In CSV\n",
    "\n",
    "# Formula 👇\n",
    "# d = abs(Red - ithRedColor) + (Green - ithGreenColor) + (Blue - ithBlueColor)\n",
    "\n",
    "def getColorName(R, G, B):\n",
    "    minimun = 10000\n",
    "    for i in range(len(csv)):\n",
    "        d = abs(R- int(csv.loc[i,\"R\"])) + abs(G- int(csv.loc[i, \"G\"])) + abs(B- int(csv.loc[i, \"B\"]))\n",
    "        if (d<=minimum):\n",
    "            minimum = d\n",
    "            cname = csv.loc[i, \"color_name\"]\n",
    "    return cname"
   ]
  },
  {
   "cell_type": "code",
   "execution_count": null,
   "metadata": {},
   "outputs": [],
   "source": [
    "while(1):\n",
    "    cv2.imshow(\"image\",img)\n",
    "    if (clicked):\n",
    "        # cv2.rectangle(image, startpoint, endoint, color, thickness) -1 thinkness fills recentangle entirely\n",
    "        cv2.rectangle(img, (20,20), (750, 60), (b,g,r), -1)\n",
    "        \n",
    "        # Creating text string to display (color name and RGB values)\n",
    "        text = getColorName(r,g,b) + 'R='+str(r) + 'G='+str(g) + 'B='+str(b)\n",
    "        \n",
    "        cv2.putText(img, text, (50, 50), 2,0.8,(255,255,255), 2, cv2.LINE_AA)\n",
    "        \n",
    "        # For Very Light Colors We Will Display Text In Balck Color\n",
    "        if(r+g+b>=600):\n",
    "            cv2.putText(img, text, (50,50), 2,0.8,(0,0,0),2,cv2.LINE_AA)\n",
    "        clicked = False\n",
    "        \n",
    "        if cv2.waitkey(20) & 0xFF == 27:\n",
    "            break\n",
    "cv2.destoryAllwindows()"
   ]
  },
  {
   "cell_type": "code",
   "execution_count": null,
   "metadata": {},
   "outputs": [],
   "source": []
  }
 ],
 "metadata": {
  "kernelspec": {
   "display_name": "Python 3",
   "language": "python",
   "name": "python3"
  },
  "language_info": {
   "codemirror_mode": {
    "name": "ipython",
    "version": 3
   },
   "file_extension": ".py",
   "mimetype": "text/x-python",
   "name": "python",
   "nbconvert_exporter": "python",
   "pygments_lexer": "ipython3",
   "version": "3.8.5"
  }
 },
 "nbformat": 4,
 "nbformat_minor": 4
}
